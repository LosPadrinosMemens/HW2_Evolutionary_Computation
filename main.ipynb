{
 "cells": [
  {
   "cell_type": "code",
   "execution_count": 1,
   "metadata": {},
   "outputs": [],
   "source": [
    "from ga import *"
   ]
  },
  {
   "cell_type": "code",
   "execution_count": 2,
   "metadata": {},
   "outputs": [
    {
     "name": "stdout",
     "output_type": "stream",
     "text": [
      "True\n"
     ]
    }
   ],
   "source": [
    "a = True and True\n",
    "print(a)"
   ]
  },
  {
   "cell_type": "code",
   "execution_count": 3,
   "metadata": {},
   "outputs": [
    {
     "name": "stdout",
     "output_type": "stream",
     "text": [
      "10/10 done\r"
     ]
    }
   ],
   "source": [
    "avg, std, max = ga_solve(200, True, f_A, [(-2.048, 2.048),(-2.048, 2.048)],True, 10)"
   ]
  },
  {
   "cell_type": "code",
   "execution_count": 4,
   "metadata": {},
   "outputs": [],
   "source": [
    "def obj_func_numpy(x):\n",
    "    f_A_lambdified = sp.lambdify((sp.symbols('x1'), sp.symbols('x2')), f_A, 'numpy')\n",
    "    return f_A_lambdified(x[0], x[1])\n",
    "\n",
    "# Define bounds for the differential evolution\n",
    "bounds = [(-2.048, 2.048),(-2.048, 2.048)]\n",
    "\n",
    "from scipy.optimize import differential_evolution\n",
    "\n",
    "# Run the differential evolution algorithm\n",
    "result = differential_evolution(obj_func_numpy, bounds)"
   ]
  },
  {
   "cell_type": "code",
   "execution_count": 6,
   "metadata": {},
   "outputs": [
    {
     "name": "stdout",
     "output_type": "stream",
     "text": [
      "True minimum found by differential evolution at x1 = 1.00, x2 = 1.00, with value = 0.00\n"
     ]
    }
   ],
   "source": [
    "print(f\"True minimum found by differential evolution at x1 = {result.x[0]:.2f}, x2 = {result.x[1]:.2f}, with value = {result.fun:.2f}\")"
   ]
  },
  {
   "cell_type": "code",
   "execution_count": 4,
   "metadata": {},
   "outputs": [
    {
     "data": {
      "text/plain": [
       "[3901.6230555292254,\n",
       " 3900.7067682059806,\n",
       " 3899.7829393368074,\n",
       " 3898.9556698749193,\n",
       " 3898.4648342058003,\n",
       " 3897.97179321632,\n",
       " 3897.7175539375876,\n",
       " 3897.6007467775953,\n",
       " 3897.4041206653637,\n",
       " 3897.2733250668466]"
      ]
     },
     "execution_count": 4,
     "metadata": {},
     "output_type": "execute_result"
    }
   ],
   "source": [
    "avg"
   ]
  },
  {
   "cell_type": "code",
   "execution_count": 5,
   "metadata": {},
   "outputs": [
    {
     "data": {
      "text/plain": [
       "[2.2801099757888483,\n",
       " 2.2023964568897534,\n",
       " 2.000972895799786,\n",
       " 1.7473110338484423,\n",
       " 1.3446561060251196,\n",
       " 0.9778764485713424,\n",
       " 0.9188328039830862,\n",
       " 0.767903471992425,\n",
       " 0.6924398932161622,\n",
       " 0.5894907054886864]"
      ]
     },
     "execution_count": 5,
     "metadata": {},
     "output_type": "execute_result"
    }
   ],
   "source": [
    "std"
   ]
  },
  {
   "cell_type": "code",
   "execution_count": 6,
   "metadata": {},
   "outputs": [
    {
     "data": {
      "text/plain": [
       "[3897.0182098232835,\n",
       " 3897.0059906325055,\n",
       " 3896.8812883875053,\n",
       " 3896.3824994075067,\n",
       " 3896.507193652505,\n",
       " 3896.3824994075067,\n",
       " 3896.3824994075067,\n",
       " 3896.3824994075067,\n",
       " 3896.3824994075067,\n",
       " 3896.3824994075067]"
      ]
     },
     "execution_count": 6,
     "metadata": {},
     "output_type": "execute_result"
    }
   ],
   "source": [
    "max"
   ]
  }
 ],
 "metadata": {
  "kernelspec": {
   "display_name": "my_env",
   "language": "python",
   "name": "python3"
  },
  "language_info": {
   "codemirror_mode": {
    "name": "ipython",
    "version": 3
   },
   "file_extension": ".py",
   "mimetype": "text/x-python",
   "name": "python",
   "nbconvert_exporter": "python",
   "pygments_lexer": "ipython3",
   "version": "3.9.19"
  }
 },
 "nbformat": 4,
 "nbformat_minor": 2
}
